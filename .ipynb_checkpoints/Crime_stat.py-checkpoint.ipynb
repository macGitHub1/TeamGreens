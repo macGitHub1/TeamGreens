{
 "cells": [
  {
   "cell_type": "code",
   "execution_count": 1,
   "metadata": {
    "collapsed": true
   },
   "outputs": [],
   "source": [
    "import requests\n",
    "import json\n",
    "import pandas as pd\n",
    "import seaborn as sns"
   ]
  },
  {
   "cell_type": "code",
   "execution_count": 2,
   "metadata": {
    "collapsed": true
   },
   "outputs": [],
   "source": [
    "url=\"https://api.usa.gov/crime/fbi/ucr/estimates/states/\"\n",
    "page=\"?page=1&per_page=200&output=json&api_key=\"\n",
    "api_key=\"iiHnOKfno2Mgkt5AynpvPpUQTEyxE77jo1RU8PIv\""
   ]
  },
  {
   "cell_type": "code",
   "execution_count": null,
   "metadata": {
    "collapsed": true
   },
   "outputs": [],
   "source": [
    "def run():\n",
    "    states=['co','wa','ak','or']\n",
    "    response=[]\n",
    "    year=[]\n",
    "    aggravated_assault=[]\n",
    "    burglary=[]\n",
    "    caveats=[]\n",
    "    homicide=[]\n",
    "    larceny=[]\n",
    "    motor_vehicle_theft=[]\n",
    "    population=[]\n",
    "    property_crime=[]\n",
    "    rape_legacy=[]\n",
    "    robbery=[]\n",
    "    state_abbr=[]\n",
    "    violent_crime=[]\n",
    "    stateList=[]\n",
    "\n",
    "        for state in states:\n",
    "            #print(state)\n",
    "            for i in range(22):\n",
    "                response = requests.get(url+state+page+api_key).json()\n",
    "                #print(json.dumps(response, indent=4, sort_keys=True))\n",
    "                aggravated_assault.append(response[\"results\"][i][\"aggravated_assault\"])\n",
    "                burglary.append(response[\"results\"][i][\"burglary\"])\n",
    "                caveats.append(response[\"results\"][i][\"caveats\"])\n",
    "                homicide.append(response[\"results\"][i][\"homicide\"])\n",
    "                larceny.append(response[\"results\"][i][\"larceny\"])\n",
    "                motor_vehicle_theft.append(response[\"results\"][i][\"motor_vehicle_theft\"])\n",
    "                property_crime.append(response[\"results\"][i][\"property_crime\"])\n",
    "                rape_legacy.append(response[\"results\"][i][\"rape_legacy\"])\n",
    "                robbery.append(response[\"results\"][i][\"robbery\"])\n",
    "                violent_crime.append(response[\"results\"][i][\"violent_crime\"])\n",
    "                year.append(response[\"results\"][i][\"year\"])\n",
    "                state_abbr.append(response[\"results\"][i][\"state_abbr\"])\n",
    "                population.append(response[\"results\"][i][\"population\"])\n",
    "        crime_data = pd.DataFrame({\n",
    "        \"state_abbr\":state_abbr,\n",
    "        \"year\":year,\n",
    "        \"population\":population,\n",
    "        \"aggravated_assault\":aggravated_assault,\n",
    "        \"burglary\":burglary,\n",
    "        \"homicide\":homicide,\n",
    "        \"larceny\":larceny,\n",
    "        \"motor_vehicle_theft\":motor_vehicle_theft,\n",
    "        \"property_crime\":property_crime,\n",
    "        \"rape_legacy\":rape_legacy,\n",
    "        \"robbery\":robbery,\n",
    "        \"violent_crime\":violent_crime\n",
    "        })\n",
    "        crime_date_f=crime_data.loc[(crime_data[\"year\"] == 2010)|(crime_data[\"year\"] == 2016)]\n",
    "        total_Crime=crime_date_f.burglary+crime_date_f.aggravated_assault+ \\\n",
    "        crime_date_f.motor_vehicle_theft \\\n",
    "        +crime_date_f.property_crime+crime_date_f.violent_crime+crime_date_f.robbery+crime_date_f.homicide+ \\\n",
    "        crime_date_f.rape_legacy+crime_date_f.larceny\n",
    "        crime_date_f['total_Crime']=total_Crime\n",
    "        crime_data_long = crime_date_f.melt(id_vars=['state_abbr', 'year'],\n",
    "                        value_name='Sum',\n",
    "                        var_name='Crime_types')\n",
    "        array = ['burglary', 'property_crime','violent_crime','motor_vehicle_theft']\n",
    "        crime_data_long_1=crime_data_long.loc[crime_data_long[\"Crime_types\"].isin(array)]\n",
    "        ay = sns.factorplot(x=\"year\", y=\"Sum\",\n",
    "                    hue=\"Crime_types\", col=\"state_abbr\",\n",
    "                   data=crime_data_long_1, kind=\"bar\",\n",
    "                    size=4, aspect=.7);\n"
   ]
  }
 ],
 "metadata": {
  "kernelspec": {
   "display_name": "Python 3",
   "language": "python",
   "name": "python3"
  },
  "language_info": {
   "codemirror_mode": {
    "name": "ipython",
    "version": 3
   },
   "file_extension": ".py",
   "mimetype": "text/x-python",
   "name": "python",
   "nbconvert_exporter": "python",
   "pygments_lexer": "ipython3",
   "version": "3.6.3"
  }
 },
 "nbformat": 4,
 "nbformat_minor": 2
}
